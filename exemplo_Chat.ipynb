{
  "nbformat": 4,
  "nbformat_minor": 0,
  "metadata": {
    "colab": {
      "provenance": [],
      "authorship_tag": "ABX9TyNc3v7pn2DuacFq9KYqElDq",
      "include_colab_link": true
    },
    "kernelspec": {
      "name": "python3",
      "display_name": "Python 3"
    },
    "language_info": {
      "name": "python"
    }
  },
  "cells": [
    {
      "cell_type": "markdown",
      "metadata": {
        "id": "view-in-github",
        "colab_type": "text"
      },
      "source": [
        "<a href=\"https://colab.research.google.com/github/zero27/imersaoIAGoogle/blob/main/exemplo_Chat.ipynb\" target=\"_parent\"><img src=\"https://colab.research.google.com/assets/colab-badge.svg\" alt=\"Open In Colab\"/></a>"
      ]
    },
    {
      "cell_type": "markdown",
      "source": [
        "\n",
        "\n",
        "Setup do código do Python para conectar com o Google AI\n",
        "\n"
      ],
      "metadata": {
        "id": "pnsfizyeMfOw"
      }
    },
    {
      "cell_type": "code",
      "execution_count": 23,
      "metadata": {
        "id": "MJyZSIyxLmZN"
      },
      "outputs": [],
      "source": [
        "import google.generativeai as genai\n",
        "from google.colab import userdata\n",
        "api_key = userdata.get(\"SECRET_KEY\")\n",
        "genai.configure(api_key = api_key)"
      ]
    },
    {
      "cell_type": "markdown",
      "source": [
        "Listar todos os modelos disponíveis"
      ],
      "metadata": {
        "id": "rH01J_DNMaK5"
      }
    },
    {
      "cell_type": "code",
      "source": [
        "for m in genai.list_models():\n",
        "  if \"generateContent\" in m.supported_generation_methods:\n",
        "    print(m.name)"
      ],
      "metadata": {
        "id": "YZYXAtYAMEP2"
      },
      "execution_count": null,
      "outputs": []
    },
    {
      "cell_type": "markdown",
      "source": [
        "Configurações gerais da AI"
      ],
      "metadata": {
        "id": "GYaXyvrdPdqK"
      }
    },
    {
      "cell_type": "code",
      "source": [
        "genconfig = {\n",
        "    \"candidate_count\": 1,\n",
        "    \"temperature\": 0.5,\n",
        "}"
      ],
      "metadata": {
        "id": "xfJNZpMbOfJb"
      },
      "execution_count": 9,
      "outputs": []
    },
    {
      "cell_type": "markdown",
      "source": [
        "Configurações de segurança"
      ],
      "metadata": {
        "id": "hhQomIMGPkVB"
      }
    },
    {
      "cell_type": "code",
      "source": [
        "safesettings = {\n",
        "    \"HARASSMENT\": \"BLOCK_NONE\",\n",
        "    \"HATE\": \"BLOCK_NONE\",\n",
        "    \"SEXUAL\": \"BLOCK_NONE\",\n",
        "    \"DANGEROUS\": \"BLOCK_NONE\",\n",
        "}"
      ],
      "metadata": {
        "id": "QL6BbKLfOwLx"
      },
      "execution_count": 10,
      "outputs": []
    },
    {
      "cell_type": "markdown",
      "source": [
        "Inicializando o modelo"
      ],
      "metadata": {
        "id": "RsOJK8dIPqi5"
      }
    },
    {
      "cell_type": "code",
      "source": [
        "model = genai.GenerativeModel(model_name=\"gemini-1.0-pro\",\n",
        "                              generation_config=genconfig,\n",
        "                              safety_settings=safesettings)"
      ],
      "metadata": {
        "id": "XfZ93K-MPtY9"
      },
      "execution_count": 11,
      "outputs": []
    },
    {
      "cell_type": "markdown",
      "source": [
        "Testando o modelo"
      ],
      "metadata": {
        "id": "tapLsAu0SAE6"
      }
    },
    {
      "cell_type": "code",
      "source": [
        "response = model.generate_content(\"Vamos apresender conteúdo sobre IA. Me dê sugentões.\")\n",
        "print(response.text)"
      ],
      "metadata": {
        "id": "FBU8afG5QuoB"
      },
      "execution_count": null,
      "outputs": []
    },
    {
      "cell_type": "markdown",
      "source": [
        "Iniciando o chat"
      ],
      "metadata": {
        "id": "22q70EyuSRIo"
      }
    },
    {
      "cell_type": "code",
      "source": [
        "chat = model.start_chat(history=[])\n",
        "prompt = input(\"Esperando prompt: \")\n",
        "while prompt != \"fim\":\n",
        "  response = chat.send_message(prompt)\n",
        "  print(\"Resposta: \", response.text, \"\\n\")\n",
        "  prompt = input(\"Esperando prompt: \")"
      ],
      "metadata": {
        "colab": {
          "base_uri": "https://localhost:8080/",
          "height": 593
        },
        "id": "UDLKP6CJSQDB",
        "outputId": "1bf4cba9-a2fa-4d00-d9b4-4d7285c3935a"
      },
      "execution_count": 25,
      "outputs": [
        {
          "name": "stdout",
          "output_type": "stream",
          "text": [
            "Esperando prompt: Com quantos paus se faz uma canoa?\n",
            "Resposta:  Um \n",
            "\n",
            "Esperando prompt: Como? Me dê instruções detalhadas.\n",
            "Resposta:  **Materiais:**\n",
            "\n",
            "* Um tronco de árvore grande e reto (de preferência uma árvore dura como carvalho ou mogno)\n",
            "\n",
            "**Instruções:**\n",
            "\n",
            "1. **Escolha e prepare o tronco:** Selecione um tronco de árvore com diâmetro suficiente para acomodar o tamanho desejado da canoa. Remova todos os galhos e casca.\n",
            "\n",
            "2. **Divida o tronco ao meio:** Use um machado ou serra para dividir o tronco ao meio longitudinalmente. Isso criará duas metades ovais.\n",
            "\n",
            "3. **Escave cada metade:** Usando um machado, uma enxó ou uma ferramenta de escavação especial, escave o interior de cada metade, criando uma forma de canoa. Deixe as bordas mais grossas para maior resistência.\n",
            "\n",
            "4. **Ajuste e junte as metades:** Coloque as duas metades escavadas uma de frente para a outra e ajuste-as para que se encaixem perfeitamente. Use estacas de madeira ou amarras para mantê-las juntas.\n",
            "\n",
            "5. **Escavação final:** Com as metades unidas, escave ainda mais o interior para criar a espessura e a forma desejadas da canoa. Afine as bordas para torná-la mais aerodinâmica.\n",
            "\n",
            "6. **Lixe e sele:** Lixe a superfície externa e interna da canoa para remover quaisquer lascas ou irregularidades. Aplique uma camada de selante para protegê-la da água e dos elementos.\n",
            "\n",
            "7. **Adicione assentos e outros recursos:** Instale assentos, apoios para os pés e quaisquer outros recursos desejados, como porta-remos ou compartimentos de armazenamento.\n",
            "\n",
            "**Observações:**\n",
            "\n",
            "* O processo de fabricação de uma canoa pode levar várias semanas ou até meses, dependendo do tamanho e da complexidade da canoa.\n",
            "* É importante usar ferramentas afiadas e ter cuidado ao manuseá-las.\n",
            "* A escolha da madeira é crucial para a durabilidade e o desempenho da canoa.\n",
            "* A selagem adequada é essencial para proteger a canoa da deterioração e do apodrecimento. \n",
            "\n",
            "Esperando prompt: fim\n"
          ]
        }
      ]
    },
    {
      "cell_type": "markdown",
      "source": [
        "Melhorando a visualização do histórico desse chat:"
      ],
      "metadata": {
        "id": "Ms4YKLOgVjsZ"
      }
    },
    {
      "cell_type": "code",
      "source": [
        "#Melhorando a visualização\n",
        "#Código disponível em https://ai.google.dev/tutorials/python_quickstart#import_packages\n",
        "import textwrap\n",
        "from IPython.display import display\n",
        "from IPython.display import Markdown\n",
        "\n",
        "def to_markdown(text):\n",
        "  text = text.replace('•', '  *')\n",
        "  return Markdown(textwrap.indent(text, '> ', predicate=lambda _: True))\n",
        "\n",
        "#Imprimindo o histórico\n",
        "for message in chat.history:\n",
        "  display(to_markdown(f'**{message.role}**: {message.parts[0].text}'))\n",
        "  print(\"-----------------------------------------------\")"
      ],
      "metadata": {
        "colab": {
          "base_uri": "https://localhost:8080/",
          "height": 697
        },
        "id": "0kIAPr1VVit5",
        "outputId": "1efacdf3-bd58-4ba2-b829-dda4918967cf"
      },
      "execution_count": 26,
      "outputs": [
        {
          "output_type": "display_data",
          "data": {
            "text/plain": [
              "<IPython.core.display.Markdown object>"
            ],
            "text/markdown": "> **user**: Com quantos paus se faz uma canoa?"
          },
          "metadata": {}
        },
        {
          "output_type": "stream",
          "name": "stdout",
          "text": [
            "-----------------------------------------------\n"
          ]
        },
        {
          "output_type": "display_data",
          "data": {
            "text/plain": [
              "<IPython.core.display.Markdown object>"
            ],
            "text/markdown": "> **model**: Um"
          },
          "metadata": {}
        },
        {
          "output_type": "stream",
          "name": "stdout",
          "text": [
            "-----------------------------------------------\n"
          ]
        },
        {
          "output_type": "display_data",
          "data": {
            "text/plain": [
              "<IPython.core.display.Markdown object>"
            ],
            "text/markdown": "> **user**: Como? Me dê instruções detalhadas."
          },
          "metadata": {}
        },
        {
          "output_type": "stream",
          "name": "stdout",
          "text": [
            "-----------------------------------------------\n"
          ]
        },
        {
          "output_type": "display_data",
          "data": {
            "text/plain": [
              "<IPython.core.display.Markdown object>"
            ],
            "text/markdown": "> **model**: **Materiais:**\n> \n> * Um tronco de árvore grande e reto (de preferência uma árvore dura como carvalho ou mogno)\n> \n> **Instruções:**\n> \n> 1. **Escolha e prepare o tronco:** Selecione um tronco de árvore com diâmetro suficiente para acomodar o tamanho desejado da canoa. Remova todos os galhos e casca.\n> \n> 2. **Divida o tronco ao meio:** Use um machado ou serra para dividir o tronco ao meio longitudinalmente. Isso criará duas metades ovais.\n> \n> 3. **Escave cada metade:** Usando um machado, uma enxó ou uma ferramenta de escavação especial, escave o interior de cada metade, criando uma forma de canoa. Deixe as bordas mais grossas para maior resistência.\n> \n> 4. **Ajuste e junte as metades:** Coloque as duas metades escavadas uma de frente para a outra e ajuste-as para que se encaixem perfeitamente. Use estacas de madeira ou amarras para mantê-las juntas.\n> \n> 5. **Escavação final:** Com as metades unidas, escave ainda mais o interior para criar a espessura e a forma desejadas da canoa. Afine as bordas para torná-la mais aerodinâmica.\n> \n> 6. **Lixe e sele:** Lixe a superfície externa e interna da canoa para remover quaisquer lascas ou irregularidades. Aplique uma camada de selante para protegê-la da água e dos elementos.\n> \n> 7. **Adicione assentos e outros recursos:** Instale assentos, apoios para os pés e quaisquer outros recursos desejados, como porta-remos ou compartimentos de armazenamento.\n> \n> **Observações:**\n> \n> * O processo de fabricação de uma canoa pode levar várias semanas ou até meses, dependendo do tamanho e da complexidade da canoa.\n> * É importante usar ferramentas afiadas e ter cuidado ao manuseá-las.\n> * A escolha da madeira é crucial para a durabilidade e o desempenho da canoa.\n> * A selagem adequada é essencial para proteger a canoa da deterioração e do apodrecimento."
          },
          "metadata": {}
        },
        {
          "output_type": "stream",
          "name": "stdout",
          "text": [
            "-----------------------------------------------\n"
          ]
        }
      ]
    }
  ]
}