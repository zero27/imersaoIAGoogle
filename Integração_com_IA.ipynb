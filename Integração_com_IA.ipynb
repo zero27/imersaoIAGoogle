{
  "nbformat": 4,
  "nbformat_minor": 0,
  "metadata": {
    "colab": {
      "provenance": [],
      "authorship_tag": "ABX9TyP5meIePSy8qEFG1tfft/K+",
      "include_colab_link": true
    },
    "kernelspec": {
      "name": "python3",
      "display_name": "Python 3"
    },
    "language_info": {
      "name": "python"
    }
  },
  "cells": [
    {
      "cell_type": "markdown",
      "metadata": {
        "id": "view-in-github",
        "colab_type": "text"
      },
      "source": [
        "<a href=\"https://colab.research.google.com/github/zero27/imersaoIAGoogle/blob/main/Integra%C3%A7%C3%A3o_com_IA.ipynb\" target=\"_parent\"><img src=\"https://colab.research.google.com/assets/colab-badge.svg\" alt=\"Open In Colab\"/></a>"
      ]
    },
    {
      "cell_type": "code",
      "execution_count": 11,
      "metadata": {
        "colab": {
          "base_uri": "https://localhost:8080/"
        },
        "id": "7AzUhUR_axx9",
        "outputId": "0cb2ccb3-9ff5-48bf-dd03-6424bda85a35"
      },
      "outputs": [
        {
          "output_type": "stream",
          "name": "stdout",
          "text": [
            "A palavra secreta tem 10 letras\n",
            "A dica é: gerenciar dados estruturados e relacionais com segurança.\n",
            "Dê o seu palpite: postgresql\n",
            "Acertou!! :)\n"
          ]
        }
      ],
      "source": [
        "import requests\n",
        "url = 'https://raw.githubusercontent.com/guilhermeonrails/api-imersao-ia/main/words.json'\n",
        "resposta = requests.get(url)\n",
        "data = resposta.json()\n",
        "\n",
        "import random\n",
        "valor_secreto = random.choice(data)\n",
        "palavra_secreta = valor_secreto ['palavra']\n",
        "dica = valor_secreto ['dica']\n",
        "print(f'A palavra secreta tem {len(palavra_secreta)} letras')\n",
        "print(f'A dica é: {dica}')\n",
        "palpite = input(f'Dê o seu palpite: ')\n",
        "if palpite == palavra_secreta:\n",
        "  print('Acertou!! :)')\n",
        "else:\n",
        "  print(f'Errou :( A palavra secreta era {palavra_secreta}')"
      ]
    }
  ]
}